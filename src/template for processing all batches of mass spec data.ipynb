{
 "cells": [
  {
   "cell_type": "code",
   "execution_count": 1,
   "metadata": {},
   "outputs": [],
   "source": [
    "from msda import preprocessing as pr\n",
    "import pandas as pd"
   ]
  },
  {
   "cell_type": "markdown",
   "metadata": {},
   "source": [
    "## As a first step preprocess the data to correct gene names, remove reverse reads, trembl and correct or remove outdated identifiers"
   ]
  },
  {
   "cell_type": "code",
   "execution_count": 2,
   "metadata": {},
   "outputs": [
    {
     "name": "stderr",
     "output_type": "stream",
     "text": [
      "/Users/skartik/git_repos/msda/msda/preprocessing.py:113: SettingWithCopyWarning: \n",
      "A value is trying to be set on a copy of a slice from a DataFrame.\n",
      "Try using .loc[row_indexer,col_indexer] = value instead\n",
      "\n",
      "See the caveats in the documentation: http://pandas.pydata.org/pandas-docs/stable/indexing.html#indexing-view-versus-copy\n",
      "  for pr in df.Uniprot_Id.tolist()]\n"
     ]
    }
   ],
   "source": [
    "# NOTE. All excel and .csv files need to be present in appropriate synapse folders as well.\n",
    "df = pr.preprocess_dataset('../data/raw/protein_quant_20813 sum.tsv')"
   ]
  },
  {
   "cell_type": "code",
   "execution_count": 3,
   "metadata": {},
   "outputs": [],
   "source": [
    "#Save processed file so that above step need not be repeated each time.\n",
    "df.to_csv('../data/raw/batch8.csv', index=False) "
   ]
  },
  {
   "cell_type": "markdown",
   "metadata": {},
   "source": [
    "## First normalize all 8 batches to their respective bridge sample"
   ]
  },
  {
   "cell_type": "code",
   "execution_count": 3,
   "metadata": {},
   "outputs": [],
   "source": [
    "import process_ms_data as pmd # Specific to this repo"
   ]
  },
  {
   "cell_type": "code",
   "execution_count": 4,
   "metadata": {},
   "outputs": [],
   "source": [
    "# path to metadata file\n",
    "metadata_filename = '../data/metadata.csv'\n",
    "dfm = pd.read_csv(metadata_filename)"
   ]
  },
  {
   "cell_type": "markdown",
   "metadata": {},
   "source": [
    "## Normalize each batch to corresponding bridge"
   ]
  },
  {
   "cell_type": "code",
   "execution_count": 5,
   "metadata": {},
   "outputs": [],
   "source": [
    "# NOTE: all file paths below should be replaced by sypnapse ids \n",
    "df1 = pmd.read_norm('../data/raw/batch1.csv', metadata_filename, 'batch1')\n",
    "df2 = pmd.read_norm('../data/raw/batch2.csv', metadata_filename, 'batch2')\n",
    "df3 = pmd.read_norm('../data/raw/batch3.csv', metadata_filename, 'batch3')\n",
    "df4 = pmd.read_norm('../data/raw/batch4.csv', metadata_filename, 'batch4')\n",
    "df5 = pmd.read_norm('../data/raw/batch5.csv', metadata_filename, 'batch5')\n",
    "df6 = pmd.read_norm('../data/raw/batch6.csv', metadata_filename, 'batch6')\n",
    "df7 = pmd.read_norm('../data/raw/batch7.csv', metadata_filename, 'batch7')\n",
    "df8 = pmd.read_norm('../data/raw/batch8.csv', metadata_filename, 'batch8')"
   ]
  },
  {
   "cell_type": "markdown",
   "metadata": {},
   "source": [
    "## Next normalize across all batches using a reference batch i.e Batch4"
   ]
  },
  {
   "cell_type": "code",
   "execution_count": 6,
   "metadata": {},
   "outputs": [],
   "source": [
    "dfl = [df1, df2, df3, df4, df5, df6, df7, df8]\n",
    "dfn = []\n",
    "for i, df in enumerate(dfl):\n",
    "    batch_name = 'batch%s' % str(i+1)\n",
    "    samples = dfm[dfm.batch == batch_name]['sample'].tolist()\n",
    "    dfn.append(pmd.normalize_between_batches(df, df4, samples))"
   ]
  },
  {
   "cell_type": "code",
   "execution_count": 7,
   "metadata": {},
   "outputs": [
    {
     "name": "stderr",
     "output_type": "stream",
     "text": [
      "/anaconda3/lib/python3.6/site-packages/ipykernel_launcher.py:1: FutureWarning: Sorting because non-concatenation axis is not aligned. A future version\n",
      "of pandas will change to not sort by default.\n",
      "\n",
      "To accept the future behavior, pass 'sort=True'.\n",
      "\n",
      "To retain the current behavior and silence the warning, pass sort=False\n",
      "\n",
      "  \"\"\"Entry point for launching an IPython kernel.\n"
     ]
    }
   ],
   "source": [
    "dfs = pd.concat(dfn, axis=1)\n"
   ]
  },
  {
   "cell_type": "code",
   "execution_count": 9,
   "metadata": {},
   "outputs": [],
   "source": [
    "dfs.to_csv('8_batches_mergedv.csv')\n"
   ]
  }
 ],
 "metadata": {
  "kernelspec": {
   "display_name": "Python 3",
   "language": "python",
   "name": "python3"
  },
  "language_info": {
   "codemirror_mode": {
    "name": "ipython",
    "version": 3
   },
   "file_extension": ".py",
   "mimetype": "text/x-python",
   "name": "python",
   "nbconvert_exporter": "python",
   "pygments_lexer": "ipython3",
   "version": "3.6.5"
  }
 },
 "nbformat": 4,
 "nbformat_minor": 2
}
